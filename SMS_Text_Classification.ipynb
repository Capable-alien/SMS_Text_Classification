{
  "cells": [
    {
      "cell_type": "code",
      "execution_count": null,
      "metadata": {
        "id": "8RZOuS9LWQvv"
      },
      "outputs": [],
      "source": [
        "try:\n",
        "  # %tensorflow_version only exists in Colab.\n",
        "  !pip install tf-nightly\n",
        "except Exception:\n",
        "  pass\n",
        "import tensorflow as tf\n",
        "import pandas as pd\n",
        "from tensorflow import keras\n",
        "!pip install tensorflow-datasets\n",
        "import tensorflow_datasets as tfds\n",
        "import numpy as np\n",
        "import matplotlib.pyplot as plt\n",
        "\n",
        "from keras.models import Sequential\n",
        "from keras.layers import Dense, Dropout, Activation\n",
        "from keras.layers import Embedding\n",
        "from keras.layers import Conv1D, GlobalMaxPooling1D\n",
        "from keras.layers import LSTM\n",
        "from keras.preprocessing.text import Tokenizer\n",
        "from keras.preprocessing.sequence import pad_sequences\n",
        "from keras.preprocessing import sequence\n",
        "from sklearn.preprocessing import LabelEncoder\n",
        "from keras import metrics\n"
      ]
    },
    {
      "cell_type": "code",
      "execution_count": null,
      "metadata": {
        "id": "lMHwYXHXCar3"
      },
      "outputs": [],
      "source": [
        "# get data files\n",
        "!wget https://cdn.freecodecamp.org/project-data/sms/train-data.tsv\n",
        "!wget https://cdn.freecodecamp.org/project-data/sms/valid-data.tsv\n",
        "\n",
        "train_file_path = \"train-data.tsv\"\n",
        "test_file_path = \"valid-data.tsv\""
      ]
    },
    {
      "cell_type": "code",
      "execution_count": null,
      "metadata": {
        "id": "J9tD9yACG6M9"
      },
      "outputs": [],
      "source": [
        "dftrain = pd.read_csv(train_file_path, sep=\"\\t\", header=None, names=['label', 'text'])\n",
        "dftest = pd.read_csv(test_file_path, sep=\"\\t\", header=None, names=['label', 'text'])\n",
        "\n"
      ]
    },
    {
      "cell_type": "code",
      "source": [
        "# Preprocess data\n",
        "tokenizer = Tokenizer(num_words=1000)\n",
        "tokenizer.fit_on_texts(dftrain['text'])\n",
        "X_train = sequence.pad_sequences(tokenizer.texts_to_sequences(dftrain['text']), maxlen=100)\n",
        "X_test = sequence.pad_sequences(tokenizer.texts_to_sequences(dftest['text']), maxlen=100)\n",
        "le = LabelEncoder()\n",
        "y_train = le.fit_transform(dftrain['label'])\n",
        "y_test = le.transform(dftest['label'])\n",
        "\n"
      ],
      "metadata": {
        "id": "XnGOivBqIx9Z"
      },
      "execution_count": null,
      "outputs": []
    },
    {
      "cell_type": "code",
      "source": [
        "# Build model\n",
        "model = Sequential([\n",
        "    Embedding(1000, 128),\n",
        "    LSTM(128, dropout=0.2, recurrent_dropout=0.2, activation='relu'),\n",
        "    Dense(1, activation='sigmoid')\n",
        "])\n",
        "model.compile(loss='binary_crossentropy', optimizer='adam', metrics=['accuracy'])\n",
        "\n"
      ],
      "metadata": {
        "id": "HOILIa_NI0jB"
      },
      "execution_count": null,
      "outputs": []
    },
    {
      "cell_type": "code",
      "source": [
        "# Train model\n",
        "model.fit(X_train, y_train, batch_size=32, epochs=2, validation_split=0.3)\n",
        "\n"
      ],
      "metadata": {
        "id": "pLV2ymERI2iK"
      },
      "execution_count": null,
      "outputs": []
    },
    {
      "cell_type": "code",
      "source": [
        "# Evaluate model\n",
        "_, accuracy = model.evaluate(X_test, y_test)\n",
        "print(f\"Testing set accuracy: {accuracy:.2f}\")\n",
        "\n"
      ],
      "metadata": {
        "id": "s_fdWNgJI4dl"
      },
      "execution_count": null,
      "outputs": []
    },
    {
      "cell_type": "code",
      "source": [
        "# Function to predict messages\n",
        "def predict_message(pred_text):\n",
        "    input_sequence = sequence.pad_sequences(tokenizer.texts_to_sequences([pred_text]), maxlen=100)\n",
        "    pred = model.predict(input_sequence)[0][0]\n",
        "    label = \"spam\" if pred >= 0.5 else \"ham\"\n",
        "    return [pred, label]\n",
        "\n"
      ],
      "metadata": {
        "id": "ywiWWr1JI6Hv"
      },
      "execution_count": null,
      "outputs": []
    },
    {
      "cell_type": "code",
      "source": [
        "# Test function\n",
        "def test_predictions():\n",
        "    test_messages = [\"how are you doing today\",\n",
        "                     \"sale today! to stop texts call 98912460324\",\n",
        "                     \"i dont want to go. can we try it a different day? available sat\",\n",
        "                     \"our new mobile video service is live. just install on your phone to start watching.\",\n",
        "                     \"you have won £1000 cash! call to claim your prize.\",\n",
        "                     \"i'll bring it tomorrow. don't forget the milk.\",\n",
        "                     \"wow, is your arm alright. that happened to me one time too\"]\n",
        "    test_answers = [\"ham\", \"spam\", \"ham\", \"spam\", \"spam\", \"ham\", \"ham\"]\n",
        "    passed = all(predict_message(msg)[1] == ans for msg, ans in zip(test_messages, test_answers))\n",
        "    print(\"You passed the challenge. Great job!\" if passed else \"You haven't passed yet. Keep trying.\")\n",
        "\n",
        "test_predictions()"
      ],
      "metadata": {
        "id": "S-zqDU6cI7_N"
      },
      "execution_count": null,
      "outputs": []
    }
  ],
  "metadata": {
    "colab": {
      "private_outputs": true,
      "provenance": [],
      "toc_visible": true
    },
    "kernelspec": {
      "display_name": "Python 3",
      "name": "python3"
    },
    "language_info": {}
  },
  "nbformat": 4,
  "nbformat_minor": 0
}